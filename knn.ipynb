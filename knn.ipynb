{
  "cells": [
    {
      "cell_type": "markdown",
      "metadata": {
        "id": "PSQWt0g35e-x"
      },
      "source": [
        "# CPSC 375 Classwork - K-Nearest Neighbors\n",
        "\n",
        "[![Open In Colab](https://colab.research.google.com/assets/colab-badge.svg)](https://colab.research.google.com/github/ProfAvery/cpsc375-classwork/blob/main/knn.ipynb)\n",
        "\n",
        "- *Manager*: Aya Aldadah\n",
        "- *Recorder*: Angel\n",
        "- *Presenter*: Patrick\n",
        "- *Timekeeper*:"
      ]
    },
    {
      "cell_type": "markdown",
      "metadata": {
        "id": "kCDPZEJZ5e-3"
      },
      "source": [
        "*Note*: On Google Colab, run the following code cell to download the `cpsc375` module before trying to `import`:"
      ]
    },
    {
      "cell_type": "code",
      "execution_count": null,
      "metadata": {
        "id": "efKFm5F95e-4"
      },
      "outputs": [],
      "source": [
        "!mkdir -p ./cpsc375 && wget --quiet --timestamping https://raw.githubusercontent.com/ProfAvery/cpsc375-classwork/refs/heads/main/cpsc375/__init__.py --output-document=./cpsc375/__init__.py"
      ]
    },
    {
      "cell_type": "code",
      "execution_count": null,
      "metadata": {
        "id": "z5oHNmT85e-4"
      },
      "outputs": [],
      "source": [
        "from cpsc375 import *"
      ]
    },
    {
      "cell_type": "markdown",
      "metadata": {
        "id": "CdV55SKs5e-4"
      },
      "source": [
        "## Part 1 - Slide 22"
      ]
    },
    {
      "cell_type": "markdown",
      "metadata": {
        "id": "hZRqyZs65e-5"
      },
      "source": [
        "* Compute the Euclidean distance between vectors\n",
        "  - (5, 0, -1)\n",
        "  - (7, 3,  5)\n",
        "* Do it by hand\n",
        "* Check with Python\n"
      ]
    },
    {
      "cell_type": "code",
      "execution_count": null,
      "metadata": {
        "id": "zMAPLH5E5e-5"
      },
      "outputs": [],
      "source": [
        "?distance.euclidean\n"
      ]
    },
    {
      "cell_type": "markdown",
      "metadata": {
        "id": "wkVWPAuQ5e-5"
      },
      "source": [
        "* Consider this training data\n",
        "\n",
        "|          | nchars | is_last_a | nvowels | **Output** |\n",
        "|----------|--------|-----------|---------|------------|\n",
        "| \"Laura\"  | 5      | 1         | 3       | **F**      |\n",
        "| \"Carlos\" | 6      | 0         | 2       | **M**      |\n",
        "| \"Jose\"   | 4      | 0         | 2       | **M**      |\n",
        "| \"Maria\"  | 5      | 1         | 3       | **F**      |\n",
        "| \"Belen\"  | 5      | 0         | 2       | **F**      |\n",
        "\n",
        "`is_last_a`: 1 if last character is \"a\", 0 otherwise\n",
        "\n",
        "* Using 1-NN, what is the predicted output name for \"Chris\"?\n"
      ]
    },
    {
      "cell_type": "markdown",
      "metadata": {
        "id": "nVOhlmVD5e-5"
      },
      "source": []
    },
    {
      "cell_type": "markdown",
      "metadata": {
        "id": "bQ4pJs-85e-5"
      },
      "source": [
        "* Using 3-NN, what is the predicted output name for \"Chris\"?\n"
      ]
    },
    {
      "cell_type": "markdown",
      "metadata": {
        "id": "QMq5mQpk5e-6"
      },
      "source": []
    },
    {
      "cell_type": "markdown",
      "metadata": {
        "id": "woqsuCGs5e-6"
      },
      "source": [
        "## Part 2 - Slide 27"
      ]
    },
    {
      "cell_type": "markdown",
      "metadata": {
        "id": "a9419o5h5e-6"
      },
      "source": [
        "The `pima-indians-diabetes-resampled.csv` file on Canvas contains a version of the Pima Indian Diabetes Database (PIDD). This dataset is often used to test machine learning algorithms, but it was not collected in a vacuum, and it is important to acknowledge [the background and the ethics issues it raises](https://nihrecord.nih.gov/2020/07/24/medical-history-matters-era-big-data). The subjects of the database are of Pima Indian heritage, and the dataset was originally collected as part of a longitudinal study of diabetes by the National Institutes of Health. The records in the dataset indicate whether the subjects have diabetes or not, along with certain diagnostic measurements.\n"
      ]
    },
    {
      "cell_type": "code",
      "execution_count": null,
      "metadata": {
        "id": "wgw96r9p5e-6"
      },
      "outputs": [],
      "source": [
        "pima_indians_diabetes = pd.read_csv(\n",
        "    \"https://raw.githubusercontent.com/ProfAvery/cpsc375-classwork/refs/heads/main/datasets/pima-indians-diabetes-resampled.csv\"\n",
        ")"
      ]
    },
    {
      "cell_type": "markdown",
      "metadata": {
        "id": "kmlirW5U5e-6"
      },
      "source": [
        "The goal is to predict if a subject has diabetes, given some of the diagnostic measurements (only *Preg* and *Pedigree*)\n",
        "\n",
        "* Which is the “class” variable? Which is/are the “feature” variables?"
      ]
    },
    {
      "cell_type": "markdown",
      "metadata": {
        "id": "Fvx4qtWF5e-6"
      },
      "source": []
    },
    {
      "cell_type": "markdown",
      "metadata": {
        "id": "cWUuRfi15e-7"
      },
      "source": [
        "* Split the dataset into train and test datasets with the *first 500 rows* for training, and the remaining rows for test\n",
        "  - Do NOT randomly sample the data\n"
      ]
    },
    {
      "cell_type": "code",
      "execution_count": null,
      "metadata": {
        "id": "w2dE8obR5e-7"
      },
      "outputs": [],
      "source": []
    },
    {
      "cell_type": "markdown",
      "metadata": {
        "id": "sHYtMw0y5e-7"
      },
      "source": [
        "* Train and test a 1-nearest neighbor (1-NN) classifier with this dataset\n",
        "  - What is the error rate (number of misclassifications)?\n"
      ]
    },
    {
      "cell_type": "code",
      "execution_count": null,
      "metadata": {
        "id": "txTUD8pJ5e-7"
      },
      "outputs": [],
      "source": []
    },
    {
      "cell_type": "markdown",
      "metadata": {
        "id": "ktArWkHK5e-7"
      },
      "source": [
        "## Part 3 - Slide 45"
      ]
    },
    {
      "cell_type": "markdown",
      "metadata": {
        "id": "sDsfEJDs5e-7"
      },
      "source": [
        "|   |                                     |            |\n",
        "|---|-------------------------------------|------------|\n",
        "| A | { Apple, Banana, Soymilk, Yoghurt } | Vegetarian |\n",
        "| B | { Apple, Peanuts, Yoghurt }         | Vegetarian |\n",
        "| C | { Tomatoes, Potatoes, Yoghurt }     | Meat-eater |\n",
        "| D | { Apple, Tomatoes, Potatoes }       | Meat-eater |\n",
        "\n",
        "Use 1-NN algorithm to predict\n",
        "\n",
        "|   |                                     |            |\n",
        "|---|-------------------------------------|------------|\n",
        "| E | { Apple, Tomatoes }                  | ?          |\n",
        "| F | { Yoghurt, Soymilk }                 | ?          |\n"
      ]
    },
    {
      "cell_type": "markdown",
      "metadata": {
        "id": "2Ze1OSxx5e-7"
      },
      "source": [
        "|         | Similarity |\n",
        "|---------|------------|\n",
        "| J(E, A) |            |\n",
        "| J(E, B) |            |\n",
        "| J(E, C) |            |\n",
        "| J(E, D) |            |\n",
        "\n",
        "Predicted class for E:\n",
        "\n",
        "|         | Similarity |\n",
        "|---------|------------|\n",
        "| J(F, A) |            |\n",
        "| J(F, B) |            |\n",
        "| J(F, C) |            |\n",
        "| J(F, D) |            |\n",
        "\n",
        "Predicted class for F:\n"
      ]
    }
  ],
  "metadata": {
    "kernelspec": {
      "display_name": "murach",
      "language": "python",
      "name": "python3"
    },
    "language_info": {
      "codemirror_mode": {
        "name": "ipython",
        "version": 3
      },
      "file_extension": ".py",
      "mimetype": "text/x-python",
      "name": "python",
      "nbconvert_exporter": "python",
      "pygments_lexer": "ipython3",
      "version": "3.11.7"
    },
    "colab": {
      "provenance": []
    }
  },
  "nbformat": 4,
  "nbformat_minor": 0
}